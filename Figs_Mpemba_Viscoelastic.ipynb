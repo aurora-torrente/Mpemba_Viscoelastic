{
 "cells": [
  {
   "cell_type": "code",
   "execution_count": 139,
   "metadata": {
    "collapsed": false
   },
   "outputs": [
    {
     "name": "stdout",
     "output_type": "stream",
     "text": [
      "Using matplotlib backend: TkAgg\n",
      "Populating the interactive namespace from numpy and matplotlib\n"
     ]
    }
   ],
   "source": [
    "%pylab\n",
    "import pandas as pd\n",
    "import scipy.constants as ct\n",
    "\n",
    "%matplotlib inline\n",
    "\n",
    "# to display all rcParams options: enter 'matplotlib.rcParams'\n",
    "matplotlib.rcParams['text.usetex']= True\n",
    "matplotlib.rcParams['font.size'] = 16"
   ]
  },
  {
   "cell_type": "code",
   "execution_count": 132,
   "metadata": {
    "collapsed": false
   },
   "outputs": [],
   "source": [
    "# DSMC tables\n",
    "tabla49 = pd.read_table('DSMC/temp_av_49.dat', index_col=0)\n",
    "Ts49 = np.genfromtxt('DSMC/Ts49.dat')[2]\n",
    "tabla50 = pd.read_table('DSMC/temp_av_50.dat', index_col=0)\n",
    "Ts50 = np.genfromtxt('DSMC/Ts50.dat')[2]\n",
    "tabla51 = pd.read_table('DSMC/temp_av_51.dat', index_col=0)\n",
    "Ts51 = np.genfromtxt('DSMC/Ts51.dat')[2]\n",
    "\n",
    "# MD tables\n",
    "# cooling series\n",
    "tabla49_MD = pd.read_table('MD/cool.a2-035.energy.dat', sep='\\s+', header=None, names=['ncol', 'T'])\n",
    "tabla50_MD = pd.read_table('MD/cool.a200.energy.dat', sep='\\s+', header=None, names=['ncol', 'T'])\n",
    "tabla51_MD = pd.read_table('MD/cool.a2050.energy.dat', sep='\\s+', header=None, names=['ncol', 'T'])\n",
    "# heating series\n",
    "tabla52_MD = pd.read_table('MD/heat.a2-035.energy.dat', sep='\\s+', header=None, names=['ncol', 'T'])\n",
    "tabla53_MD = pd.read_table('MD/heat.a200.energy.dat', sep='\\s+', header=None, names=['ncol', 'T'])\n",
    "tabla54_MD = pd.read_table('MD/heat.a2050.energy.dat', sep='\\s+', header=None, names=['ncol', 'T'])\n"
   ]
  },
  {
   "cell_type": "code",
   "execution_count": 32,
   "metadata": {
    "collapsed": false
   },
   "outputs": [
    {
     "data": {
      "text/html": [
       "<div>\n",
       "<table border=\"1\" class=\"dataframe\">\n",
       "  <thead>\n",
       "    <tr style=\"text-align: right;\">\n",
       "      <th></th>\n",
       "      <th>t</th>\n",
       "      <th>ncol</th>\n",
       "      <th>T</th>\n",
       "      <th>a2</th>\n",
       "      <th>ux</th>\n",
       "      <th>uy</th>\n",
       "      <th>uz</th>\n",
       "    </tr>\n",
       "  </thead>\n",
       "  <tbody>\n",
       "    <tr>\n",
       "      <th>0</th>\n",
       "      <td>0.0</td>\n",
       "      <td>0.000000</td>\n",
       "      <td>0.921154</td>\n",
       "      <td>-0.349987</td>\n",
       "      <td>4.796836e-18</td>\n",
       "      <td>1.990137e-18</td>\n",
       "      <td>1.097183e-18</td>\n",
       "    </tr>\n",
       "    <tr>\n",
       "      <th>1</th>\n",
       "      <td>0.2</td>\n",
       "      <td>0.110421</td>\n",
       "      <td>0.921952</td>\n",
       "      <td>-0.297971</td>\n",
       "      <td>-4.872118e-05</td>\n",
       "      <td>2.833796e-05</td>\n",
       "      <td>7.260233e-05</td>\n",
       "    </tr>\n",
       "    <tr>\n",
       "      <th>2</th>\n",
       "      <td>0.4</td>\n",
       "      <td>0.220744</td>\n",
       "      <td>0.922245</td>\n",
       "      <td>-0.252284</td>\n",
       "      <td>-6.403634e-05</td>\n",
       "      <td>5.727222e-05</td>\n",
       "      <td>6.476580e-05</td>\n",
       "    </tr>\n",
       "    <tr>\n",
       "      <th>3</th>\n",
       "      <td>0.6</td>\n",
       "      <td>0.330790</td>\n",
       "      <td>0.922199</td>\n",
       "      <td>-0.212430</td>\n",
       "      <td>-6.003936e-05</td>\n",
       "      <td>4.951347e-05</td>\n",
       "      <td>1.631387e-04</td>\n",
       "    </tr>\n",
       "    <tr>\n",
       "      <th>4</th>\n",
       "      <td>0.8</td>\n",
       "      <td>0.440741</td>\n",
       "      <td>0.921684</td>\n",
       "      <td>-0.177980</td>\n",
       "      <td>-8.207417e-05</td>\n",
       "      <td>3.366610e-05</td>\n",
       "      <td>1.486283e-04</td>\n",
       "    </tr>\n",
       "  </tbody>\n",
       "</table>\n",
       "</div>"
      ],
      "text/plain": [
       "     t      ncol         T        a2            ux            uy            uz\n",
       "0  0.0  0.000000  0.921154 -0.349987  4.796836e-18  1.990137e-18  1.097183e-18\n",
       "1  0.2  0.110421  0.921952 -0.297971 -4.872118e-05  2.833796e-05  7.260233e-05\n",
       "2  0.4  0.220744  0.922245 -0.252284 -6.403634e-05  5.727222e-05  6.476580e-05\n",
       "3  0.6  0.330790  0.922199 -0.212430 -6.003936e-05  4.951347e-05  1.631387e-04\n",
       "4  0.8  0.440741  0.921684 -0.177980 -8.207417e-05  3.366610e-05  1.486283e-04"
      ]
     },
     "execution_count": 32,
     "metadata": {},
     "output_type": "execute_result"
    }
   ],
   "source": [
    "tabla49.head()"
   ]
  },
  {
   "cell_type": "code",
   "execution_count": 133,
   "metadata": {
    "collapsed": false
   },
   "outputs": [
    {
     "data": {
      "text/html": [
       "<div>\n",
       "<table border=\"1\" class=\"dataframe\">\n",
       "  <thead>\n",
       "    <tr style=\"text-align: right;\">\n",
       "      <th></th>\n",
       "      <th>ncol</th>\n",
       "      <th>T</th>\n",
       "    </tr>\n",
       "  </thead>\n",
       "  <tbody>\n",
       "    <tr>\n",
       "      <th>0</th>\n",
       "      <td>0.000000</td>\n",
       "      <td>0.970000</td>\n",
       "    </tr>\n",
       "    <tr>\n",
       "      <th>1</th>\n",
       "      <td>0.104154</td>\n",
       "      <td>0.970706</td>\n",
       "    </tr>\n",
       "    <tr>\n",
       "      <th>2</th>\n",
       "      <td>0.422484</td>\n",
       "      <td>0.968742</td>\n",
       "    </tr>\n",
       "    <tr>\n",
       "      <th>3</th>\n",
       "      <td>0.751112</td>\n",
       "      <td>0.970522</td>\n",
       "    </tr>\n",
       "    <tr>\n",
       "      <th>4</th>\n",
       "      <td>1.049753</td>\n",
       "      <td>0.973401</td>\n",
       "    </tr>\n",
       "  </tbody>\n",
       "</table>\n",
       "</div>"
      ],
      "text/plain": [
       "       ncol         T\n",
       "0  0.000000  0.970000\n",
       "1  0.104154  0.970706\n",
       "2  0.422484  0.968742\n",
       "3  0.751112  0.970522\n",
       "4  1.049753  0.973401"
      ]
     },
     "execution_count": 133,
     "metadata": {},
     "output_type": "execute_result"
    }
   ],
   "source": [
    "tabla54_MD.head()"
   ]
  },
  {
   "cell_type": "code",
   "execution_count": 155,
   "metadata": {
    "collapsed": false
   },
   "outputs": [
    {
     "data": {
      "text/html": [
       "<div>\n",
       "<table border=\"1\" class=\"dataframe\">\n",
       "  <thead>\n",
       "    <tr style=\"text-align: right;\">\n",
       "      <th></th>\n",
       "      <th>ncol</th>\n",
       "      <th>T</th>\n",
       "    </tr>\n",
       "  </thead>\n",
       "  <tbody>\n",
       "    <tr>\n",
       "      <th>0</th>\n",
       "      <td>0.000000</td>\n",
       "      <td>1.030000</td>\n",
       "    </tr>\n",
       "    <tr>\n",
       "      <th>1</th>\n",
       "      <td>0.091433</td>\n",
       "      <td>1.033081</td>\n",
       "    </tr>\n",
       "    <tr>\n",
       "      <th>2</th>\n",
       "      <td>0.388848</td>\n",
       "      <td>1.032583</td>\n",
       "    </tr>\n",
       "    <tr>\n",
       "      <th>3</th>\n",
       "      <td>0.676839</td>\n",
       "      <td>1.030900</td>\n",
       "    </tr>\n",
       "    <tr>\n",
       "      <th>4</th>\n",
       "      <td>0.968316</td>\n",
       "      <td>1.027805</td>\n",
       "    </tr>\n",
       "  </tbody>\n",
       "</table>\n",
       "</div>"
      ],
      "text/plain": [
       "       ncol         T\n",
       "0  0.000000  1.030000\n",
       "1  0.091433  1.033081\n",
       "2  0.388848  1.032583\n",
       "3  0.676839  1.030900\n",
       "4  0.968316  1.027805"
      ]
     },
     "execution_count": 155,
     "metadata": {},
     "output_type": "execute_result"
    }
   ],
   "source": [
    "tabla49_MD.head()\n"
   ]
  },
  {
   "cell_type": "code",
   "execution_count": 161,
   "metadata": {
    "collapsed": false
   },
   "outputs": [
    {
     "data": {
      "image/png": "[encoded data removed]",
      "text/plain": [
       "<matplotlib.figure.Figure at 0x7ff0b1c03510>"
      ]
     },
     "metadata": {},
     "output_type": "display_data"
    }
   ],
   "source": [
    "plt.figure(figsize=(8 , 2*8/ct.golden_ratio ))\n",
    "plt.xlim(0, 6)\n",
    "plt.xlabel(r'$\\mathcal{N}$', fontsize=22)\n",
    "plt.ylabel(r'$\\theta$', fontsize=22)\n",
    "\n",
    "# PLOT DSMC DATA\n",
    "plt.plot(tabla49['ncol'], tabla49['T']/Ts49, color='r')\n",
    "plt.plot(tabla50['ncol'], tabla50['T']/Ts50, color='k')\n",
    "plt.plot(tabla51['ncol'], tabla51['T']/Ts51, color='b')\n",
    "\n",
    "# PLOT MD DATA\n",
    "symbol_size = 40\n",
    "\n",
    "# plot cooling MD series\n",
    "plt.scatter(tabla49_MD['ncol'], tabla49_MD['T'], \n",
    "            edgecolors='r', marker='o', facecolors='none', s= symbol_size)\n",
    "plt.scatter(tabla50_MD['ncol'], tabla50_MD['T'], \n",
    "            edgecolors='k', marker='s', facecolors='none', s= symbol_size)\n",
    "plt.scatter(tabla51_MD['ncol'], tabla51_MD['T'], \n",
    "            edgecolors='b', marker='^', facecolors='none', s= symbol_size)\n",
    "\n",
    "# plot heating MD series\n",
    "plt.scatter(tabla52_MD['ncol'], tabla52_MD['T'], \n",
    "            edgecolors='r', marker='o', facecolors='none', s= symbol_size)\n",
    "plt.scatter(tabla53_MD['ncol'], tabla53_MD['T'], \n",
    "            edgecolors='k', marker='s', facecolors='none', s= symbol_size)\n",
    "plt.scatter(tabla54_MD['ncol'], tabla54_MD['T'], \n",
    "            edgecolors='b', marker='^', facecolors='none', s= symbol_size)\n",
    "\n",
    "plt.hlines(y=1, xmin=0.0, xmax=12, color='k',linestyles='--', linewidth=3)\n",
    "\n",
    "plt.savefig('fig_preliminar.pdf', bbox_inches='tight')"
   ]
  }
 ],
 "metadata": {
  "kernelspec": {
   "display_name": "Python 3",
   "language": "python",
   "name": "python3"
  },
  "language_info": {
   "codemirror_mode": {
    "name": "ipython",
    "version": 2
   },
   "file_extension": ".py",
   "mimetype": "text/x-python",
   "name": "python",
   "nbconvert_exporter": "python",
   "pygments_lexer": "ipython2",
   "version": "2.7.13"
  }
 },
 "nbformat": 4,
 "nbformat_minor": 2
}
